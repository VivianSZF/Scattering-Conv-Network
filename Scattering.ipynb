{
 "cells": [
  {
   "cell_type": "markdown",
   "metadata": {},
   "source": [
    "# Invariant Scattering Convolution Networks"
   ]
  },
  {
   "cell_type": "markdown",
   "metadata": {},
   "source": [
    "Implémentation (partielle) de l'algorithme décrit dans l'article de S. Mallat et J. Bruno, $\\textbf{Invariant Scattering Convolution Networks}$ (2013)."
   ]
  },
  {
   "cell_type": "code",
   "execution_count": null,
   "metadata": {
    "collapsed": false
   },
   "outputs": [],
   "source": [
    "%matplotlib inline\n",
    "%load_ext line_profiler\n",
    "\n",
    "import os\n",
    "from mnist import MNIST\n",
    "import numpy as np\n",
    "from scipy import signal, misc, ndimage\n",
    "from itertools import combinations\n",
    "import math\n",
    "\n",
    "import matplotlib.pyplot as plt\n",
    "from mpl_toolkits.mplot3d import Axes3D\n",
    "from matplotlib import cm\n",
    "from matplotlib.ticker import LinearLocator, FormatStrFormatter\n",
    "\n",
    "from sklearn.decomposition import PCA\n",
    "from sklearn.grid_search import GridSearchCV\n",
    "from sklearn.model_selection import train_test_split\n",
    "from sklearn.svm import SVC\n",
    "import sklearn.metrics as skmetrics"
   ]
  },
  {
   "cell_type": "markdown",
   "metadata": {},
   "source": [
    "## 1. Morlet Wavelet"
   ]
  },
  {
   "cell_type": "code",
   "execution_count": null,
   "metadata": {
    "collapsed": false
   },
   "outputs": [],
   "source": [
    "def Morlet2D_grid(n_lines, n_columns, J = 0, theta = 0, sigma = 0.85, xi = 3 * np.pi / 4):\n",
    "    \"\"\"returns 2d Morlet real and imaginary filter of size (n_lines, n_columns), rotated by theta and dilated by 1/2^J\"\"\"\n",
    "    X = np.arange(-n_columns / 2**(J+1), n_columns / 2**(J+1), 1/2**J) #to get n_columns length vector\n",
    "    Y = np.arange(-n_lines / 2**(J+1), n_lines / 2**(J+1), 1/2**J)\n",
    "    X, Y = np.meshgrid(X, Y)\n",
    "    \n",
    "    # Rotate\n",
    "    X_theta = np.cos(theta) * X + np.sin(theta) * Y \n",
    "    Y_theta = np.cos(theta) * Y - np.sin(theta) * X\n",
    "    \n",
    "    Wave = np.exp(1j * xi * (X_theta + Y_theta))\n",
    "    Z_r = np.real(Wave)\n",
    "    Z_i = np.imag(Wave)\n",
    "    Gaus = np.exp(-np.sqrt(X_theta**2 + Y_theta**2) / (2 * sigma**2))\n",
    "    Z_r *= Gaus\n",
    "    Z_i *= Gaus\n",
    "    \n",
    "    # Center Morlet wave\n",
    "    Int_r = np.sum(Z_r)\n",
    "    Int_i = np.sum(Z_i)\n",
    "    Int_Gaus = np.sum(Gaus)\n",
    "\n",
    "    beta_r = Int_r / Int_Gaus\n",
    "    beta_i = Int_i/ Int_Gaus\n",
    "    \n",
    "    Z_r -= beta_r * Gaus\n",
    "    Z_i -= beta_i * Gaus\n",
    "    return(Z_r + 1j * Z_i)"
   ]
  },
  {
   "cell_type": "markdown",
   "metadata": {},
   "source": [
    "### Representation d'une ondelette Morlet"
   ]
  },
  {
   "cell_type": "code",
   "execution_count": null,
   "metadata": {
    "collapsed": false
   },
   "outputs": [],
   "source": [
    "Z = Morlet2D_grid(100, 100, 4, theta = 3*np.pi/4)\n",
    "Z_r = np.real(Z)\n",
    "Z_i = np.imag(Z)\n",
    "X = np.arange(-100 / 32, 100 / 32, 1/16)\n",
    "Y = np.arange(-100 / 32, 100 / 32, 1/16)\n",
    "X, Y = np.meshgrid(X, Y)\n",
    "fig = plt.figure()\n",
    "ax = fig.gca(projection='3d')\n",
    "surf = ax.plot_surface(X, Y, Z_r, rstride=1, cstride=1, cmap = cm.coolwarm,\n",
    "        linewidth=0, antialiased=False)\n",
    "ax.set_zlim(-0.4, 1.01)\n",
    "\n",
    "\n",
    "ax.zaxis.set_major_locator(LinearLocator(8))\n",
    "ax.zaxis.set_major_formatter(FormatStrFormatter('%.02f'))\n",
    "fig.colorbar(surf, shrink=0.5, aspect=5)\n",
    "plt.suptitle(\"Partie réelle de l'ondelette de Morlet\")\n",
    "plt.show()"
   ]
  },
  {
   "cell_type": "markdown",
   "metadata": {
    "collapsed": true
   },
   "source": [
    "## Convolution "
   ]
  },
  {
   "cell_type": "code",
   "execution_count": null,
   "metadata": {
    "collapsed": false
   },
   "outputs": [],
   "source": [
    "def morl_conv(image, subsample = 1, J = 0, theta = 0, sigma = 0.85, xi = 3 * np.pi / 4):\n",
    "    \"\"\"image of shape (n_lines, n_columns) (levels of grey not RGB), returns convolution with Morlet2D_grid\"\"\"\n",
    "    morlet_filter = Morlet2D_grid(image.shape[0], image.shape[1], J, theta, sigma, xi)\n",
    "    return (signal.fftconvolve(image, morlet_filter, mode = \"same\")[ :: subsample,  ::subsample])"
   ]
  },
  {
   "cell_type": "code",
   "execution_count": null,
   "metadata": {
    "collapsed": false
   },
   "outputs": [],
   "source": [
    "# Loads MNIST dataset\n",
    "mndata = MNIST(os.path.join(os.getcwd(), 'MNIST'))\n",
    "mnist_images = mndata.load_training()"
   ]
  },
  {
   "cell_type": "code",
   "execution_count": null,
   "metadata": {
    "collapsed": false
   },
   "outputs": [],
   "source": [
    "f = np.array(mnist_images[0][50]).reshape(28,28)\n",
    "plt.imshow(f, cmap=plt.cm.gray)\n",
    "print('Label : ' + str(mnist_images[1][50]))"
   ]
  },
  {
   "cell_type": "code",
   "execution_count": null,
   "metadata": {
    "collapsed": false
   },
   "outputs": [],
   "source": [
    "fig = plt.figure()\n",
    "f1 = np.abs(morl_conv(f,subsample = 3, J = 1, theta = np.pi/3))\n",
    "f2 = np.abs(morl_conv(f, subsample = 3, J = 1, theta = np.pi/2))\n",
    "f3 = np.abs(morl_conv(f, subsample = 3, J = 2, theta = np.pi/2))\n",
    "\n",
    "a = fig.add_subplot(1, 3, 1)\n",
    "plt.imshow(f1, cmap = plt.cm.gray)\n",
    "a.set_title(r\"$J=1, \\theta=\\pi/3$\")\n",
    "\n",
    "a = fig.add_subplot(1, 3, 2)\n",
    "plt.imshow(f2, cmap = plt.cm.gray)\n",
    "a.set_title(r\"$J=1, \\theta=\\pi/2$\")\n",
    "\n",
    "a = fig.add_subplot(1, 3, 3)\n",
    "plt.imshow(f3, cmap = plt.cm.gray)\n",
    "a.set_title(r\"$J=2, \\theta=\\pi/2$\")\n",
    "\n",
    "\n",
    "fig.suptitle('Différentes convolution par des ondelettes (en valeur absolue)')"
   ]
  },
  {
   "cell_type": "markdown",
   "metadata": {
    "collapsed": true
   },
   "source": [
    "## Computing Scattering coeffs"
   ]
  },
  {
   "cell_type": "markdown",
   "metadata": {},
   "source": [
    "### First implementation (a long one)"
   ]
  },
  {
   "cell_type": "code",
   "execution_count": null,
   "metadata": {
    "collapsed": true
   },
   "outputs": [],
   "source": [
    "def cascade_wavelet_transf(image, j_path, theta_path):\n",
    "    \"\"\"js_path is the dilatations 2**-j we want to compute, thetas_path is similarly thetas path for the rotations \n",
    "    returns U[p]: see Mallat article \"\"\"\n",
    "    U = image.copy()\n",
    "    for j, theta in zip(j_path, theta_path):\n",
    "        U = np.abs(morl_conv(U, J = j, theta = theta))\n",
    "    return U    "
   ]
  },
  {
   "cell_type": "code",
   "execution_count": null,
   "metadata": {
    "collapsed": false
   },
   "outputs": [],
   "source": [
    "def scattering_paths(J, m, K):\n",
    "    \"\"\" returns a list of all paths = [(j_path, theta_path)] of length M with j_path[k]<j_path[k+1]<= J\n",
    "        and theta = 2 * np.pi * k, k < K\"\"\"\n",
    "    thetas = [2 * np.pi * k / K for k in range(K)]\n",
    "    js_path = [list(comb) for comb in combinations(range(1, J + 1), m)]\n",
    "    thetas_paths = [[theta] for theta in thetas]\n",
    "    scat_path = []\n",
    "    for i in range(m - 1):\n",
    "        new_th_paths = []\n",
    "        for j in range(len(thetas_paths)):\n",
    "            for theta in thetas:\n",
    "                new_th_paths.append(thetas_paths[j] + [theta])\n",
    "        thetas_paths = new_th_paths\n",
    "    for j_path in js_path:\n",
    "        for th_path in thetas_paths:\n",
    "            scat_path.append((j_path, th_path))\n",
    "    return scat_path"
   ]
  },
  {
   "cell_type": "code",
   "execution_count": null,
   "metadata": {
    "collapsed": false
   },
   "outputs": [],
   "source": [
    "def scatter_coeffs_long(image, m, K, J = 0, alpha = 1/2):\n",
    "    \n",
    "    \"\"\"J = number of dilatations, m = length of the scattering conv network, K = number of rotations\n",
    "    too long\"\"\"\n",
    "    if J == 0:\n",
    "        J = int(math.log(image.shape[0], 2))\n",
    "    print(J)\n",
    "    scat_coeffs = {}\n",
    "    for i in range(1, m + 1):\n",
    "        scat_coeffs[i] = []\n",
    "        for path in scattering_paths(J, i, K):\n",
    "            U_path = cascade_wavelet_transf(image, path[0], path[1])\n",
    "            S_U_path = 1/2**J*ndimage.filters.gaussian_filter(U_path, 1/2**J)\n",
    "            scat_coeffs[i].append(S_U_path) #vérifier que c'est toujous les mêmes\n",
    "    print(len(scat_coeffs[1]), len(scat_coeffs[2]))\n",
    "    return scat_coeffs\n",
    "            "
   ]
  },
  {
   "cell_type": "markdown",
   "metadata": {},
   "source": [
    "### Second implementation : fast scattering transform"
   ]
  },
  {
   "cell_type": "code",
   "execution_count": null,
   "metadata": {
    "collapsed": false
   },
   "outputs": [],
   "source": [
    "def continue_path(path, J, K):\n",
    "    \"\"\"gets a scattering path of length m, outputs a list of all paths of length m+1 that you could obtain from this path\"\"\"\n",
    "    cont_paths = []\n",
    "    \n",
    "    if type(path[0]) == int: #du au fait qu'un tuple ne peut pas avoir une longueur de 1\n",
    "        j_m = path[0]\n",
    "    else:\n",
    "        j_m = path[-1][0]\n",
    "    thetas = [np.pi * k / K for k in range(K)]\n",
    "    for j in range(j_m + 1, J + 1):\n",
    "        for theta in thetas:\n",
    "            if type(path[0]) == int:\n",
    "                path1 = [path]\n",
    "            else:\n",
    "                path1 = list(path)\n",
    "            path1 += [(j, theta)]\n",
    "            cont_paths.append(tuple(path1))\n",
    "    return cont_paths\n"
   ]
  },
  {
   "cell_type": "code",
   "execution_count": null,
   "metadata": {
    "collapsed": false
   },
   "outputs": [],
   "source": [
    "def scatter_coeffs_fast(image, m, K, J = 0):\n",
    "    \"\"\"J = number of dilatations, m = length of the scattering conv network, K = number of rotations\n",
    "        outputs a long array of concatenated scatter coefficients\"\"\"\n",
    "    \n",
    "    if J == 0 :\n",
    "        #default value of J is log(image.width)\n",
    "        J = int(math.log(image.shape[0], 2))\n",
    "        \n",
    "    #layer number 0: first scattering coeff\n",
    "    scat_coeffs = 1/2**J*ndimage.filters.gaussian_filter(image, 1/2**J)[ :: 2**J, :: 2**J].reshape(-1)\n",
    "    \n",
    "    #we index_pathes to normalize scattering coefficient afterwards\n",
    "    path_index = 0\n",
    "    #coeff indexes indicates which are the indexes corresponding to path n° path_index\n",
    "    coeff_indexes = {path_index : (0, scat_coeffs.shape[0])}\n",
    "    #normalization_coeff[path_index ] = norm(S[path]x)\n",
    "    normalization_coeff = {path_index : np.linalg.norm(scat_coeffs)}\n",
    "    paths = []\n",
    "    U_p = {1 : {}}\n",
    "    #first layers U[p] calculated\n",
    "    for j in range(1, J +1):\n",
    "        for theta in [np.pi * k / K for k in range(K)]:\n",
    "            path = (j, theta)\n",
    "            paths.append((path))\n",
    "            U_p[1][path] = np.abs(morl_conv(image, subsample = path[0], J = path[0], theta = path[1]))\n",
    "    #fast scattering transform:\n",
    "    for i in range(1, m):\n",
    "        U_p[i+1] = {}\n",
    "        paths2 = []\n",
    "        for path in paths:\n",
    "            #for path of length m calculate S[p]x, save path indexes in the scat_coeffs array, and the normalizaiton_coeff\n",
    "            path_index += 1\n",
    "            new_coeff = (1/2**J*ndimage.filters.gaussian_filter(U_p[i][path], 1/2**J)[ :: 2**J, :: 2**J]).reshape(-1)\n",
    "            scat_coeffs = np.concatenate((scat_coeffs, new_coeff))\n",
    "            coeff_indexes[path_index] = (scat_coeffs.shape[0] - new_coeff.shape[0], scat_coeffs.shape[0])\n",
    "            normalization_coeff[path_index] = np.linalg.norm(new_coeff)\n",
    "            for next_path in continue_path(path, J, K):\n",
    "                #calculate all paths of length m+1 and U[p] for them\n",
    "                U_p[i+1][next_path] =  np.abs(morl_conv(image, subsample = next_path[-1][0], J = next_path[-1][0], theta = next_path[-1][1]))\n",
    "                paths2.append(next_path)\n",
    "        paths = paths2\n",
    "    for path in paths:\n",
    "        #for remaining paths of length m, do the first step of the previous loop\n",
    "        path_index += 1\n",
    "        new_coeff = 1/2**J*ndimage.filters.gaussian_filter(U_p[m][path], 1/2**J).reshape(-1)\n",
    "        scat_coeffs = np.concatenate((scat_coeffs, new_coeff))\n",
    "        coeff_indexes[path_index] = (scat_coeffs.shape[0] - new_coeff.shape[0], scat_coeffs.shape[0])\n",
    "        normalization_coeff[path_index] = np.linalg.norm(new_coeff)\n",
    "    return (scat_coeffs, coeff_indexes, normalization_coeff)"
   ]
  },
  {
   "cell_type": "code",
   "execution_count": null,
   "metadata": {
    "collapsed": false
   },
   "outputs": [],
   "source": [
    "%lprun -f morl_conv scatter_coeffs_fast(f, 3, 6)"
   ]
  },
  {
   "cell_type": "markdown",
   "metadata": {},
   "source": [
    "## SVM on MNIST database"
   ]
  },
  {
   "cell_type": "code",
   "execution_count": null,
   "metadata": {
    "collapsed": false
   },
   "outputs": [],
   "source": [
    "sample_size = 400\n",
    "train_set = [np.array(mnist_images[0][i]).reshape(28,28) for i in range(sample_size)]\n",
    "y = [mnist_images[1][i] for i in range(sample_size)]\n"
   ]
  },
  {
   "cell_type": "code",
   "execution_count": null,
   "metadata": {
    "collapsed": false
   },
   "outputs": [],
   "source": [
    "X = []\n",
    "d = {}\n",
    "for i in range(400):\n",
    "    if i%100 == 0:\n",
    "        print(i)\n",
    "    scat_coeff, coeff_index, norm_coeff = scatter_coeffs_fast(train_set[i], m=2, K=6, J=3)\n",
    "    X.append(scat_coeff)\n",
    "    for i in norm_coeff:\n",
    "        if norm_coeff[i] > d.get(i,0):\n",
    "            d[i] = norm_coeff[i]\n",
    "\n",
    "X = np.array(X)\n",
    "X_normalized = X.copy()\n",
    "for i in coeff_index:\n",
    "    X_normalized[coeff_index[i][0]:coeff_index[i][1]] /= d[i]"
   ]
  },
  {
   "cell_type": "code",
   "execution_count": null,
   "metadata": {
    "collapsed": false
   },
   "outputs": [],
   "source": [
    "X_train, X_test, y_train, y_test = train_test_split(X, y[0:400], test_size=0.25, random_state=42)"
   ]
  },
  {
   "cell_type": "markdown",
   "metadata": {},
   "source": [
    "### Cross validation for SVM parameters"
   ]
  },
  {
   "cell_type": "code",
   "execution_count": null,
   "metadata": {
    "collapsed": false
   },
   "outputs": [],
   "source": [
    "param_grid = {'C': [1, 1e2, 1e3, 5e3, 1e4, 5e4, 1e5], 'gamma': [0.0001, 0.0005, 0.001, 0.005, 0.01, 0.1, 1, 10]}\n",
    "clf0 = GridSearchCV(SVC(kernel='rbf'), param_grid)\n",
    "clf = clf0.fit(X_train, y_train)\n",
    "print(\"Best estimator found by grid search : \", clf.best_estimator_)"
   ]
  },
  {
   "cell_type": "code",
   "execution_count": null,
   "metadata": {
    "collapsed": false,
    "scrolled": true
   },
   "outputs": [],
   "source": [
    "param_grid = {'C': [ 4e3, 4500, 5e3, 5500, 6e3,], 'gamma': [1e-6, 1e-5, 0.0001, 0.0005, 0.001]}\n",
    "clf0 = GridSearchCV(SVC(kernel='rbf'), param_grid)\n",
    "clf = clf0.fit(X_train, y_train)\n",
    "print(\"Best estimator found by grid search : \", clf.best_estimator_)"
   ]
  },
  {
   "cell_type": "code",
   "execution_count": null,
   "metadata": {
    "collapsed": false,
    "scrolled": true
   },
   "outputs": [],
   "source": [
    "clf = SVC(kernel='rbf', C=25, gamma=1e-10)\n",
    "clf.fit(X_train, y_train)"
   ]
  },
  {
   "cell_type": "markdown",
   "metadata": {},
   "source": [
    "### Results"
   ]
  },
  {
   "cell_type": "code",
   "execution_count": null,
   "metadata": {
    "collapsed": false,
    "scrolled": false
   },
   "outputs": [],
   "source": [
    "y_pred = clf.predict(X_test)\n",
    "print('Accuracy score :', skmetrics.accuracy_score(y_pred, y_test))\n",
    "print('Confusion matrix :', skmetrics.confusion_matrix(y_pred, y_test))"
   ]
  },
  {
   "cell_type": "markdown",
   "metadata": {},
   "source": [
    "# PCA Affine Space Selection on MNIST database"
   ]
  },
  {
   "cell_type": "code",
   "execution_count": null,
   "metadata": {
    "collapsed": false
   },
   "outputs": [],
   "source": [
    "integer_indexes = {i : [] for i in range(10)}\n",
    "for i in range(300):\n",
    "    integer_indexes[y[i]].append(i)\n",
    "pcas = {}\n",
    "for i in range(10):\n",
    "    pcas[i] = PCA(n_components = 3).fit(X_normalized[integer_indexes[i]])"
   ]
  },
  {
   "cell_type": "code",
   "execution_count": null,
   "metadata": {
    "collapsed": false
   },
   "outputs": [],
   "source": [
    "Confusion_matrix = np.zeros((10,10))\n",
    "for i in range(300, 400):\n",
    "    print(i)\n",
    "    x_proj = 0\n",
    "    x_class = y[i]\n",
    "    suggested_class = 0\n",
    "    x = X_normalized[i].reshape(-1, 1)\n",
    "    print(x.shape)\n",
    "    for integer in range(10):\n",
    "        x_transf = pcas[integer].transform(x)\n",
    "        suggested_proj = np.linalg.norm(x_transf)\n",
    "        if suggested_proj > x_proj:\n",
    "            x_proj = suggested_proj\n",
    "            suggested_class = integer\n",
    "    Confusion_matrix[suggested_class, x_class] += 1\n",
    "    \n",
    "    print(\"vraie valeur: \".format(y[i]), \"valeur prédite: \".format(x_class))"
   ]
  },
  {
   "cell_type": "code",
   "execution_count": null,
   "metadata": {
    "collapsed": true
   },
   "outputs": [],
   "source": [
    "print(Confusion_matrix)"
   ]
  }
 ],
 "metadata": {
  "kernelspec": {
   "display_name": "Python 3",
   "language": "python",
   "name": "python3"
  },
  "language_info": {
   "codemirror_mode": {
    "name": "ipython",
    "version": 3
   },
   "file_extension": ".py",
   "mimetype": "text/x-python",
   "name": "python",
   "nbconvert_exporter": "python",
   "pygments_lexer": "ipython3",
   "version": "3.5.2"
  }
 },
 "nbformat": 4,
 "nbformat_minor": 1
}
